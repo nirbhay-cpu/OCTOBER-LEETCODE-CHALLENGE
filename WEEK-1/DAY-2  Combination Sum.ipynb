{
 "cells": [
  {
   "cell_type": "code",
   "execution_count": null,
   "metadata": {},
   "outputs": [],
   "source": [
    "QUESTION-\n",
    "\n",
    "Given an array of distinct integers candidates and a target integer target, return a list of all unique combinations of candidates where the chosen numbers sum to target. You may return the combinations in any order.\n",
    "\n",
    "The same number may be chosen from candidates an unlimited number of times. Two combinations are unique if the frequency of at least one of the chosen numbers is different.\n",
    "\n",
    "It is guaranteed that the number of unique combinations that sum up to target is less than 150 combinations for the given input.\n",
    "\n",
    " \n",
    "\n",
    "Example 1:\n",
    "\n",
    "Input: candidates = [2,3,6,7], target = 7\n",
    "Output: [[2,2,3],[7]]\n",
    "Explanation:\n",
    "2 and 3 are candidates, and 2 + 2 + 3 = 7. Note that 2 can be used multiple times.\n",
    "7 is a candidate, and 7 = 7.\n",
    "These are the only two combinations.\n",
    "Example 2:\n",
    "\n",
    "Input: candidates = [2,3,5], target = 8\n",
    "Output: [[2,2,2,2],[2,3,3],[3,5]]\n",
    "Example 3:\n",
    "\n",
    "Input: candidates = [2], target = 1\n",
    "Output: []\n",
    "Example 4:\n",
    "\n",
    "Input: candidates = [1], target = 1\n",
    "Output: [[1]]\n",
    "Example 5:\n",
    "\n",
    "Input: candidates = [1], target = 2\n",
    "Output: [[1,1]]\n",
    " \n",
    "\n",
    "Constraints:\n",
    "\n",
    "1 <= candidates.length <= 30\n",
    "1 <= candidates[i] <= 200\n",
    "All elements of candidates are distinct.\n",
    "1 <= target <= 500"
   ]
  },
  {
   "cell_type": "code",
   "execution_count": null,
   "metadata": {},
   "outputs": [],
   "source": [
    "class Solution:\n",
    "    def combinationSum(self, candidates: List[int], target: int) -> List[List[int]]:\n",
    "        self.candidates = candidates\n",
    "        self.res = []\n",
    "        self.backt([],target,0)\n",
    "        return self.res\n",
    "    \n",
    "    def backt(self,path,target,indx):\n",
    "        \n",
    "        if target == 0:\n",
    "            self.res.append(path)\n",
    "            return\n",
    "        \n",
    "        if target < 0:\n",
    "            return\n",
    "        \n",
    "        for x in range(indx,len(self.candidates)):\n",
    "            self.backt(path+[self.candidates[x]],target-self.candidates[x],x)\n",
    "        "
   ]
  },
  {
   "cell_type": "code",
   "execution_count": null,
   "metadata": {},
   "outputs": [],
   "source": []
  }
 ],
 "metadata": {
  "kernelspec": {
   "display_name": "Python 3",
   "language": "python",
   "name": "python3"
  },
  "language_info": {
   "codemirror_mode": {
    "name": "ipython",
    "version": 3
   },
   "file_extension": ".py",
   "mimetype": "text/x-python",
   "name": "python",
   "nbconvert_exporter": "python",
   "pygments_lexer": "ipython3",
   "version": "3.7.6"
  }
 },
 "nbformat": 4,
 "nbformat_minor": 4
}
