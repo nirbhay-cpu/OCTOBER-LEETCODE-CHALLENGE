{
 "cells": [
  {
   "cell_type": "code",
   "execution_count": null,
   "metadata": {},
   "outputs": [],
   "source": [
    "QUESTION-\n",
    "\n",
    "Given an array of integers nums and an integer k, return the number of unique k-diff pairs in the array.\n",
    "\n",
    "A k-diff pair is an integer pair (nums[i], nums[j]), where the following are true:\n",
    "\n",
    "0 <= i, j < nums.length\n",
    "i != j\n",
    "|nums[i] - nums[j]| == k\n",
    "Notice that |val| denotes the absolute value of val.\n",
    "\n",
    " \n",
    "\n",
    "Example 1:\n",
    "\n",
    "Input: nums = [3,1,4,1,5], k = 2\n",
    "Output: 2\n",
    "Explanation: There are two 2-diff pairs in the array, (1, 3) and (3, 5).\n",
    "Although we have two 1s in the input, we should only return the number of unique pairs.\n",
    "Example 2:\n",
    "\n",
    "Input: nums = [1,2,3,4,5], k = 1\n",
    "Output: 4\n",
    "Explanation: There are four 1-diff pairs in the array, (1, 2), (2, 3), (3, 4) and (4, 5).\n",
    "Example 3:\n",
    "\n",
    "Input: nums = [1,3,1,5,4], k = 0\n",
    "Output: 1\n",
    "Explanation: There is one 0-diff pair in the array, (1, 1).\n",
    "Example 4:\n",
    "\n",
    "Input: nums = [1,2,4,4,3,3,0,9,2,3], k = 3\n",
    "Output: 2\n",
    "Example 5:\n",
    "\n",
    "Input: nums = [-1,-2,-3], k = 1\n",
    "Output: 2\n",
    " \n",
    "\n",
    "Constraints:\n",
    "\n",
    "1 <= nums.length <= 104\n",
    "-107 <= nums[i] <= 107\n",
    "0 <= k <= 107"
   ]
  },
  {
   "cell_type": "code",
   "execution_count": null,
   "metadata": {},
   "outputs": [],
   "source": [
    "class Solution:\n",
    "    def findPairs(self, nums: List[int], k: int) -> int:\n",
    "        res=[]\n",
    "        \n",
    "         \n",
    "                    \n",
    "        \n",
    "        for i in nums:\n",
    "            if k==0 :\n",
    "                 if i+k in nums and nums.count(i)>1:\n",
    "                    res.append((i,i+k))\n",
    "                \n",
    "            else:\n",
    "                if i+k in nums:\n",
    "                    res.append((i,i+k))\n",
    "        \n",
    "        return len(set(res))"
   ]
  },
  {
   "cell_type": "code",
   "execution_count": null,
   "metadata": {},
   "outputs": [],
   "source": []
  }
 ],
 "metadata": {
  "kernelspec": {
   "display_name": "Python 3",
   "language": "python",
   "name": "python3"
  },
  "language_info": {
   "codemirror_mode": {
    "name": "ipython",
    "version": 3
   },
   "file_extension": ".py",
   "mimetype": "text/x-python",
   "name": "python",
   "nbconvert_exporter": "python",
   "pygments_lexer": "ipython3",
   "version": "3.7.6"
  }
 },
 "nbformat": 4,
 "nbformat_minor": 4
}
