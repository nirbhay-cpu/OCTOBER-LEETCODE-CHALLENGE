{
 "cells": [
  {
   "cell_type": "code",
   "execution_count": null,
   "metadata": {},
   "outputs": [],
   "source": [
    "QUESTION-\n",
    "\n",
    "Given a list of intervals, remove all intervals that are covered by another interval in the list.\n",
    "\n",
    "Interval [a,b) is covered by interval [c,d) if and only if c <= a and b <= d.\n",
    "\n",
    "After doing so, return the number of remaining intervals.\n",
    "\n",
    " \n",
    "\n",
    "Example 1:\n",
    "\n",
    "Input: intervals = [[1,4],[3,6],[2,8]]\n",
    "Output: 2\n",
    "Explanation: Interval [3,6] is covered by [2,8], therefore it is removed.\n",
    "Example 2:\n",
    "\n",
    "Input: intervals = [[1,4],[2,3]]\n",
    "Output: 1\n",
    "Example 3:\n",
    "\n",
    "Input: intervals = [[0,10],[5,12]]\n",
    "Output: 2\n",
    "Example 4:\n",
    "\n",
    "Input: intervals = [[3,10],[4,10],[5,11]]\n",
    "Output: 2\n",
    "Example 5:\n",
    "\n",
    "Input: intervals = [[1,2],[1,4],[3,4]]\n",
    "Output: 1\n",
    " \n",
    "\n",
    "Constraints:\n",
    "\n",
    "1 <= intervals.length <= 1000\n",
    "intervals[i].length == 2\n",
    "0 <= intervals[i][0] < intervals[i][1] <= 10^5\n",
    "All the intervals are unique."
   ]
  },
  {
   "cell_type": "code",
   "execution_count": null,
   "metadata": {},
   "outputs": [],
   "source": [
    "class Solution:\n",
    "    def removeCoveredIntervals(self, intervals: List[List[int]]) -> int:\n",
    "        intervals = sorted(intervals,key=lambda x :(x[0],-x[1]))\n",
    "        \n",
    "        ending=0\n",
    "        res=0\n",
    "        \n",
    "        for _,end in intervals:\n",
    "            if end> ending:\n",
    "                res+=1\n",
    "                ending=end\n",
    "        \n",
    "        return res"
   ]
  },
  {
   "cell_type": "code",
   "execution_count": null,
   "metadata": {},
   "outputs": [],
   "source": []
  }
 ],
 "metadata": {
  "kernelspec": {
   "display_name": "Python 3",
   "language": "python",
   "name": "python3"
  },
  "language_info": {
   "codemirror_mode": {
    "name": "ipython",
    "version": 3
   },
   "file_extension": ".py",
   "mimetype": "text/x-python",
   "name": "python",
   "nbconvert_exporter": "python",
   "pygments_lexer": "ipython3",
   "version": "3.7.6"
  }
 },
 "nbformat": 4,
 "nbformat_minor": 4
}
