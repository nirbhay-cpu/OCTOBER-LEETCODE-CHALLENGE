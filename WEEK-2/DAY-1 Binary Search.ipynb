{
 "cells": [
  {
   "cell_type": "code",
   "execution_count": null,
   "metadata": {},
   "outputs": [],
   "source": [
    "QUESTION-\n",
    "\n",
    "Given a sorted (in ascending order) integer array nums of n elements and a target value, write a function to search target in nums. If target exists, then return its index, otherwise return -1.\n",
    "\n",
    "\n",
    "Example 1:\n",
    "\n",
    "Input: nums = [-1,0,3,5,9,12], target = 9\n",
    "Output: 4\n",
    "Explanation: 9 exists in nums and its index is 4\n",
    "\n",
    "Example 2:\n",
    "\n",
    "Input: nums = [-1,0,3,5,9,12], target = 2\n",
    "Output: -1\n",
    "Explanation: 2 does not exist in nums so return -1\n",
    " \n",
    "\n",
    "Note:\n",
    "\n",
    "You may assume that all elements in nums are unique.\n",
    "n will be in the range [1, 10000].\n",
    "The value of each element in nums will be in the range [-9999, 9999]."
   ]
  },
  {
   "cell_type": "code",
   "execution_count": null,
   "metadata": {},
   "outputs": [],
   "source": [
    "class Solution:\n",
    "    def search(self, nums: List[int], target: int) -> int:\n",
    "        \n",
    "        \n",
    "        def binarySearch(arr,l,r,x):\n",
    "            \n",
    "            if r>=l:\n",
    "                mid = l + (r - l) // 2\n",
    "  \n",
    "         \n",
    "                if arr[mid] == x: \n",
    "                    return mid \n",
    "\n",
    "\n",
    "                elif arr[mid] > x: \n",
    "                    return binarySearch(arr, l, mid-1, x) \n",
    "\n",
    "                else: \n",
    "                    return binarySearch(arr, mid + 1, r, x)\n",
    "            \n",
    "            else:\n",
    "                return -1\n",
    "\n",
    "        return binarySearch(nums, 0, len(nums)-1, target)"
   ]
  },
  {
   "cell_type": "code",
   "execution_count": null,
   "metadata": {},
   "outputs": [],
   "source": []
  }
 ],
 "metadata": {
  "kernelspec": {
   "display_name": "Python 3",
   "language": "python",
   "name": "python3"
  },
  "language_info": {
   "codemirror_mode": {
    "name": "ipython",
    "version": 3
   },
   "file_extension": ".py",
   "mimetype": "text/x-python",
   "name": "python",
   "nbconvert_exporter": "python",
   "pygments_lexer": "ipython3",
   "version": "3.7.6"
  }
 },
 "nbformat": 4,
 "nbformat_minor": 4
}
