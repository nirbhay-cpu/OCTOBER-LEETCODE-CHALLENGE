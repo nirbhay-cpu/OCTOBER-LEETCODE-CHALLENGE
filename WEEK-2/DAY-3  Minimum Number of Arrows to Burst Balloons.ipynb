{
 "cells": [
  {
   "cell_type": "code",
   "execution_count": null,
   "metadata": {},
   "outputs": [],
   "source": [
    "QUESTION-\n",
    "\n",
    "There are some spherical balloons spread in two-dimensional space. For each balloon, provided input is the start and end coordinates of the horizontal diameter. Since it's horizontal, y-coordinates don't matter, and hence the x-coordinates of start and end of the diameter suffice. The start is always smaller than the end.\n",
    "\n",
    "An arrow can be shot up exactly vertically from different points along the x-axis. A balloon with xstart and xend bursts by an arrow shot at x if xstart ≤ x ≤ xend. There is no limit to the number of arrows that can be shot. An arrow once shot keeps traveling up infinitely.\n",
    "\n",
    "Given an array points where points[i] = [xstart, xend], return the minimum number of arrows that must be shot to burst all balloons.\n",
    "\n",
    " \n",
    "\n",
    "Example 1:\n",
    "\n",
    "Input: points = [[10,16],[2,8],[1,6],[7,12]]\n",
    "Output: 2\n",
    "Explanation: One way is to shoot one arrow for example at x = 6 (bursting the balloons [2,8] and [1,6]) and another arrow at x = 11 (bursting the other two balloons).\n",
    "Example 2:\n",
    "\n",
    "Input: points = [[1,2],[3,4],[5,6],[7,8]]\n",
    "Output: 4\n",
    "Example 3:\n",
    "\n",
    "Input: points = [[1,2],[2,3],[3,4],[4,5]]\n",
    "Output: 2\n",
    "Example 4:\n",
    "\n",
    "Input: points = [[1,2]]\n",
    "Output: 1\n",
    "Example 5:\n",
    "\n",
    "Input: points = [[2,3],[2,3]]\n",
    "Output: 1\n",
    " \n",
    "\n",
    "Constraints:\n",
    "\n",
    "0 <= points.length <= 104\n",
    "points.length == 2\n",
    "-231 <= xstart < xend <= 231 - 1"
   ]
  },
  {
   "cell_type": "code",
   "execution_count": null,
   "metadata": {},
   "outputs": [],
   "source": [
    "class Solution:\n",
    "    def findMinArrowShots(self, points: List[List[int]]) -> int:\n",
    "        if len(points)==0:\n",
    "            return 0\n",
    "        \n",
    "        if len(points)==1:\n",
    "            return 1\n",
    "        \n",
    "        points = sorted(points,key = lambda x : x[1])\n",
    "        \n",
    "        \n",
    "        \n",
    "        v=1\n",
    "        s=points[0][1]\n",
    "        \n",
    "        for start,end in points:\n",
    "            if s>=start:\n",
    "                pass\n",
    "            else:\n",
    "                s=end\n",
    "                v+=1\n",
    "        \n",
    "        return v"
   ]
  },
  {
   "cell_type": "code",
   "execution_count": null,
   "metadata": {},
   "outputs": [],
   "source": []
  }
 ],
 "metadata": {
  "kernelspec": {
   "display_name": "Python 3",
   "language": "python",
   "name": "python3"
  },
  "language_info": {
   "codemirror_mode": {
    "name": "ipython",
    "version": 3
   },
   "file_extension": ".py",
   "mimetype": "text/x-python",
   "name": "python",
   "nbconvert_exporter": "python",
   "pygments_lexer": "ipython3",
   "version": "3.7.6"
  }
 },
 "nbformat": 4,
 "nbformat_minor": 4
}
