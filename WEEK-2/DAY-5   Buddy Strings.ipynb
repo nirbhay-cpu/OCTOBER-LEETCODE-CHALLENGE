{
 "cells": [
  {
   "cell_type": "code",
   "execution_count": null,
   "metadata": {},
   "outputs": [],
   "source": [
    "QUESTION-\n",
    "\n",
    "Given two strings A and B of lowercase letters, return true if you can swap two letters in A so the result is equal to B, otherwise, return false.\n",
    "\n",
    "Swapping letters is defined as taking two indices i and j (0-indexed) such that i != j and swapping the characters at A[i] and A[j]. For example, swapping at indices 0 and 2 in \"abcd\" results in \"cbad\".\n",
    "\n",
    " \n",
    "\n",
    "Example 1:\n",
    "\n",
    "Input: A = \"ab\", B = \"ba\"\n",
    "Output: true\n",
    "Explanation: You can swap A[0] = 'a' and A[1] = 'b' to get \"ba\", which is equal to B.\n",
    "Example 2:\n",
    "\n",
    "Input: A = \"ab\", B = \"ab\"\n",
    "Output: false\n",
    "Explanation: The only letters you can swap are A[0] = 'a' and A[1] = 'b', which results in \"ba\" != B.\n",
    "Example 3:\n",
    "\n",
    "Input: A = \"aa\", B = \"aa\"\n",
    "Output: true\n",
    "Explanation: You can swap A[0] = 'a' and A[1] = 'a' to get \"aa\", which is equal to B.\n",
    "Example 4:\n",
    "\n",
    "Input: A = \"aaaaaaabc\", B = \"aaaaaaacb\"\n",
    "Output: true\n",
    "Example 5:\n",
    "\n",
    "Input: A = \"\", B = \"aa\"\n",
    "Output: false"
   ]
  },
  {
   "cell_type": "code",
   "execution_count": null,
   "metadata": {},
   "outputs": [],
   "source": [
    "class Solution:\n",
    "    def buddyStrings(self, A: str, B: str) -> bool:\n",
    "        A = list(A)\n",
    "        B= list(B)\n",
    "        if len(A)!=len(B):\n",
    "            return False\n",
    "        if len(set(A))<len(A) and A==B:\n",
    "            return True\n",
    "        \n",
    "        d=[]\n",
    "        \n",
    "        for x in range(len(A)):\n",
    "            if A[x]!=B[x]:\n",
    "                d.append([A[x],B[x]])\n",
    "        \n",
    "        if   len(d)==2 and d[0]==d[-1][::-1]:\n",
    "            return True\n",
    "        \n",
    "        return False"
   ]
  }
 ],
 "metadata": {
  "kernelspec": {
   "display_name": "Python 3",
   "language": "python",
   "name": "python3"
  },
  "language_info": {
   "codemirror_mode": {
    "name": "ipython",
    "version": 3
   },
   "file_extension": ".py",
   "mimetype": "text/x-python",
   "name": "python",
   "nbconvert_exporter": "python",
   "pygments_lexer": "ipython3",
   "version": "3.7.6"
  }
 },
 "nbformat": 4,
 "nbformat_minor": 4
}
