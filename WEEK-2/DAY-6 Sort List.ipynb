{
 "cells": [
  {
   "cell_type": "code",
   "execution_count": null,
   "metadata": {},
   "outputs": [],
   "source": [
    "QUESTION-\n",
    "\n",
    "Given the head of a linked list, return the list after sorting it in ascending order.\n",
    "\n",
    "Follow up: Can you sort the linked list in O(n logn) time and O(1) memory (i.e. constant space)?\n",
    "\n",
    " \n",
    "\n",
    "Example 1:\n",
    "\n",
    "\n",
    "Input: head = [4,2,1,3]\n",
    "Output: [1,2,3,4]\n",
    "Example 2:\n",
    "\n",
    "\n",
    "Input: head = [-1,5,3,4,0]\n",
    "Output: [-1,0,3,4,5]\n",
    "Example 3:\n",
    "\n",
    "Input: head = []\n",
    "Output: []\n",
    " \n",
    "\n",
    "Constraints:\n",
    "\n",
    "The number of nodes in the list is in the range [0, 5 * 104].\n",
    "-105 <= Node.val <= 105"
   ]
  },
  {
   "cell_type": "code",
   "execution_count": null,
   "metadata": {},
   "outputs": [],
   "source": [
    "# Definition for singly-linked list.\n",
    "# class ListNode:\n",
    "#     def __init__(self, val=0, next=None):\n",
    "#         self.val = val\n",
    "#         self.next = next\n",
    "class Solution:\n",
    "    def sortList(self, head: ListNode) -> ListNode:\n",
    "        if not head or not head.next :\n",
    "            return head\n",
    "        \n",
    "        p,fast,slow=None,head,head\n",
    "        \n",
    "        while fast and fast.next:\n",
    "            p=slow\n",
    "            slow=slow.next\n",
    "            fast=fast.next.next\n",
    "        p.next = None\n",
    "        \n",
    "        return self.merge(self.sortList(head),self.sortList(slow))\n",
    "    \n",
    "    \n",
    "    def merge(self,l1,l2):\n",
    "        dummy = ListNode(None)\n",
    "        curr=dummy\n",
    "        \n",
    "        while l1 and l2:\n",
    "            \n",
    "            if l1.val>l2.val:\n",
    "                curr.next,l2  = l2 , l2.next\n",
    "            else:\n",
    "                curr.next , l1 = l1 , l1.next\n",
    "            \n",
    "            curr= curr.next\n",
    "            \n",
    "        if l1 :\n",
    "            curr.next = l1\n",
    "        elif l2 :\n",
    "            curr.next = l2\n",
    "        \n",
    "        return dummy.next\n",
    "        "
   ]
  },
  {
   "cell_type": "code",
   "execution_count": null,
   "metadata": {},
   "outputs": [],
   "source": []
  }
 ],
 "metadata": {
  "kernelspec": {
   "display_name": "Python 3",
   "language": "python",
   "name": "python3"
  },
  "language_info": {
   "codemirror_mode": {
    "name": "ipython",
    "version": 3
   },
   "file_extension": ".py",
   "mimetype": "text/x-python",
   "name": "python",
   "nbconvert_exporter": "python",
   "pygments_lexer": "ipython3",
   "version": "3.7.6"
  }
 },
 "nbformat": 4,
 "nbformat_minor": 4
}
