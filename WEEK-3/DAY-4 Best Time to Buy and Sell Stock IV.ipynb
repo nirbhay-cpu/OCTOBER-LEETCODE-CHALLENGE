{
 "cells": [
  {
   "cell_type": "code",
   "execution_count": null,
   "metadata": {},
   "outputs": [],
   "source": [
    "QUESTION-\n",
    "\n",
    "You are given an integer array prices where prices[i] is the price of a given stock on the ith day.\n",
    "\n",
    "Design an algorithm to find the maximum profit. You may complete at most k transactions.\n",
    "\n",
    "Notice that you may not engage in multiple transactions simultaneously (i.e., you must sell the stock before you buy again).\n",
    "\n",
    " \n",
    "\n",
    "Example 1:\n",
    "\n",
    "Input: k = 2, prices = [2,4,1]\n",
    "Output: 2\n",
    "Explanation: Buy on day 1 (price = 2) and sell on day 2 (price = 4), profit = 4-2 = 2.\n",
    "Example 2:\n",
    "\n",
    "Input: k = 2, prices = [3,2,6,5,0,3]\n",
    "Output: 7\n",
    "Explanation: Buy on day 2 (price = 2) and sell on day 3 (price = 6), profit = 6-2 = 4. Then buy on day 5 (price = 0) and sell on day 6 (price = 3), profit = 3-0 = 3.\n",
    " \n",
    "\n",
    "Constraints:\n",
    "\n",
    "0 <= k <= 109\n",
    "0 <= prices.length <= 104\n",
    "0 <= prices[i] <= 1000"
   ]
  },
  {
   "cell_type": "code",
   "execution_count": null,
   "metadata": {},
   "outputs": [],
   "source": [
    "class Solution:\n",
    "    def maxProfit(self, k: int, prices: List[int]) -> int:\n",
    "        n = len(prices)\n",
    "\n",
    "        # solve special cases\n",
    "        if not prices or k==0:\n",
    "            return 0\n",
    "\n",
    "        if 2*k > n:\n",
    "            res = 0\n",
    "            for i, j in zip(prices[1:], prices[:-1]):\n",
    "                res += max(0, i - j)\n",
    "            return res\n",
    "\n",
    "        # dp[i][used_k][ishold] = balance\n",
    "        # ishold: 0 nothold, 1 hold\n",
    "        dp = [[[-math.inf]*2 for _ in range(k+1)] for _ in range(n)]\n",
    "\n",
    "        # set starting value\n",
    "        dp[0][0][0] = 0\n",
    "        dp[0][1][1] = -prices[0]\n",
    "\n",
    "        # fill the array\n",
    "        for i in range(1, n):\n",
    "            for j in range(k+1):\n",
    "                # transition equation\n",
    "                dp[i][j][0] = max(dp[i-1][j][0], dp[i-1][j][1]+prices[i])\n",
    "                # you can't hold stock without any transaction\n",
    "                if j > 0:\n",
    "                    dp[i][j][1] = max(dp[i-1][j][1], dp[i-1][j-1][0]-prices[i])\n",
    "\n",
    "        res = max(dp[n-1][j][0] for j in range(k+1))\n",
    "        return res"
   ]
  },
  {
   "cell_type": "code",
   "execution_count": null,
   "metadata": {},
   "outputs": [],
   "source": []
  }
 ],
 "metadata": {
  "kernelspec": {
   "display_name": "Python 3",
   "language": "python",
   "name": "python3"
  },
  "language_info": {
   "codemirror_mode": {
    "name": "ipython",
    "version": 3
   },
   "file_extension": ".py",
   "mimetype": "text/x-python",
   "name": "python",
   "nbconvert_exporter": "python",
   "pygments_lexer": "ipython3",
   "version": "3.7.6"
  }
 },
 "nbformat": 4,
 "nbformat_minor": 4
}
