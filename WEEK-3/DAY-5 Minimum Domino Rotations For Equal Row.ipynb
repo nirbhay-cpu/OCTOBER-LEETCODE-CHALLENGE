{
 "cells": [
  {
   "cell_type": "code",
   "execution_count": null,
   "metadata": {},
   "outputs": [],
   "source": [
    "QUESTION-\n",
    "\n",
    "In a row of dominoes, A[i] and B[i] represent the top and bottom halves of the ith domino.  (A domino is a tile with two numbers from 1 to 6 - one on each half of the tile.)\n",
    "\n",
    "We may rotate the ith domino, so that A[i] and B[i] swap values.\n",
    "\n",
    "Return the minimum number of rotations so that all the values in A are the same, or all the values in B are the same.\n",
    "\n",
    "If it cannot be done, return -1.\n",
    "\n",
    " \n",
    "\n",
    "Example 1:\n",
    "\n",
    "\n",
    "Input: A = [2,1,2,4,2,2], B = [5,2,6,2,3,2]\n",
    "Output: 2\n",
    "Explanation: \n",
    "The first figure represents the dominoes as given by A and B: before we do any rotations.\n",
    "If we rotate the second and fourth dominoes, we can make every value in the top row equal to 2, as indicated by the second figure.\n",
    "Example 2:\n",
    "\n",
    "Input: A = [3,5,1,2,3], B = [3,6,3,3,4]\n",
    "Output: -1\n",
    "Explanation: \n",
    "In this case, it is not possible to rotate the dominoes to make one row of values equal.\n",
    " \n",
    "\n",
    "Constraints:\n",
    "\n",
    "2 <= A.length == B.length <= 2 * 104\n",
    "1 <= A[i], B[i] <= 6"
   ]
  },
  {
   "cell_type": "code",
   "execution_count": null,
   "metadata": {},
   "outputs": [],
   "source": [
    "class Solution:\n",
    "    def minDominoRotations(self, A: List[int], B: List[int]) -> int:\n",
    "        if len(A)<=1:\n",
    "            return 0\n",
    "        \n",
    "        def helper(target,A,B):\n",
    "            count = 0\n",
    "            for indx in range(len(A)):\n",
    "                a = A[indx] \n",
    "                b = B[indx]\n",
    "                \n",
    "                if a==target:\n",
    "                    continue\n",
    "                else:\n",
    "                    if b==target:\n",
    "                        count+=1\n",
    "                    else:\n",
    "                        count=float(\"inf\")\n",
    "                        break\n",
    "            return count\n",
    "        \n",
    "        res = min(helper(A[0],A,B),helper(A[0],B,A),helper(B[0],A,B),helper(B[0],B,A))\n",
    "        \n",
    "        return res if res!=float(\"inf\") else -1\n",
    "        "
   ]
  },
  {
   "cell_type": "code",
   "execution_count": null,
   "metadata": {},
   "outputs": [],
   "source": []
  }
 ],
 "metadata": {
  "kernelspec": {
   "display_name": "Python 3",
   "language": "python",
   "name": "python3"
  },
  "language_info": {
   "codemirror_mode": {
    "name": "ipython",
    "version": 3
   },
   "file_extension": ".py",
   "mimetype": "text/x-python",
   "name": "python",
   "nbconvert_exporter": "python",
   "pygments_lexer": "ipython3",
   "version": "3.7.6"
  }
 },
 "nbformat": 4,
 "nbformat_minor": 4
}
