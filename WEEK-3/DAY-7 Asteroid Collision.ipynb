{
 "cells": [
  {
   "cell_type": "code",
   "execution_count": null,
   "metadata": {},
   "outputs": [],
   "source": [
    "QUESTION-\n",
    "\n",
    "We are given an array asteroids of integers representing asteroids in a row.\n",
    "\n",
    "For each asteroid, the absolute value represents its size, and the sign represents its direction (positive meaning right, negative meaning left). Each asteroid moves at the same speed.\n",
    "\n",
    "Find out the state of the asteroids after all collisions. If two asteroids meet, the smaller one will explode. If both are the same size, both will explode. Two asteroids moving in the same direction will never meet.\n",
    "\n",
    " \n",
    "\n",
    "Example 1:\n",
    "\n",
    "Input: asteroids = [5,10,-5]\n",
    "Output: [5,10]\n",
    "Explanation: The 10 and -5 collide resulting in 10.  The 5 and 10 never collide.\n",
    "Example 2:\n",
    "\n",
    "Input: asteroids = [8,-8]\n",
    "Output: []\n",
    "Explanation: The 8 and -8 collide exploding each other.\n",
    "Example 3:\n",
    "\n",
    "Input: asteroids = [10,2,-5]\n",
    "Output: [10]\n",
    "Explanation: The 2 and -5 collide resulting in -5. The 10 and -5 collide resulting in 10.\n",
    "Example 4:\n",
    "\n",
    "Input: asteroids = [-2,-1,1,2]\n",
    "Output: [-2,-1,1,2]\n",
    "Explanation: The -2 and -1 are moving left, while the 1 and 2 are moving right. Asteroids moving the same direction never meet, so no asteroids will meet each other.\n",
    " \n",
    "\n",
    "Constraints:\n",
    "\n",
    "1 <= asteroids <= 104\n",
    "-1000 <= asteroids[i] <= 1000\n",
    "asteroids[i] != 0"
   ]
  },
  {
   "cell_type": "code",
   "execution_count": null,
   "metadata": {},
   "outputs": [],
   "source": [
    "class Solution:\n",
    "    def asteroidCollision(self, asteroids: List[int]) -> List[int]:\n",
    "        res=[]\n",
    "        \n",
    "        for i in asteroids:\n",
    "            \n",
    "            while len(res) and i<0 and res[-1]>0  :\n",
    "                if res[-1] > abs(i):\n",
    "                    break\n",
    "                elif res[-1] == abs(i):\n",
    "                    res.pop()\n",
    "                    break\n",
    "                else:\n",
    "                    res.pop()\n",
    "                    continue\n",
    "            else:\n",
    "                res.append(i)\n",
    "        \n",
    "        return res"
   ]
  },
  {
   "cell_type": "code",
   "execution_count": null,
   "metadata": {},
   "outputs": [],
   "source": []
  }
 ],
 "metadata": {
  "kernelspec": {
   "display_name": "Python 3",
   "language": "python",
   "name": "python3"
  },
  "language_info": {
   "codemirror_mode": {
    "name": "ipython",
    "version": 3
   },
   "file_extension": ".py",
   "mimetype": "text/x-python",
   "name": "python",
   "nbconvert_exporter": "python",
   "pygments_lexer": "ipython3",
   "version": "3.7.6"
  }
 },
 "nbformat": 4,
 "nbformat_minor": 4
}
