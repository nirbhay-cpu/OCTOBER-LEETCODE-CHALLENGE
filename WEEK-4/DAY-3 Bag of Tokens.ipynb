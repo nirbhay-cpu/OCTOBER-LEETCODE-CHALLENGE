{
 "cells": [
  {
   "cell_type": "code",
   "execution_count": null,
   "metadata": {},
   "outputs": [],
   "source": [
    "QUESTION-\n",
    "\n",
    "You have an initial power of P, an initial score of 0, and a bag of tokens where tokens[i] is the value of the ith token (0-indexed).\n",
    "\n",
    "Your goal is to maximize your total score by potentially playing each token in one of two ways:\n",
    "\n",
    "If your current power is at least tokens[i], you may play the ith token face up, losing tokens[i] power and gaining 1 score.\n",
    "If your current score is at least 1, you may play the ith token face down, gaining tokens[i] power and losing 1 score.\n",
    "Each token may be played at most once and in any order. You do not have to play all the tokens.\n",
    "\n",
    "Return the largest possible score you can achieve after playing any number of tokens.\n",
    "\n",
    " \n",
    "\n",
    "Example 1:\n",
    "\n",
    "Input: tokens = [100], P = 50\n",
    "Output: 0\n",
    "Explanation: Playing the only token in the bag is impossible because you either have too little power or too little score.\n",
    "Example 2:\n",
    "\n",
    "Input: tokens = [100,200], P = 150\n",
    "Output: 1\n",
    "Explanation: Play the 0th token (100) face up, your power becomes 50 and score becomes 1.\n",
    "There is no need to play the 1st token since you cannot play it face up to add to your score.\n",
    "Example 3:\n",
    "\n",
    "Input: tokens = [100,200,300,400], P = 200\n",
    "Output: 2\n",
    "Explanation: Play the tokens in this order to get a score of 2:\n",
    "1. Play the 0th token (100) face up, your power becomes 100 and score becomes 1.\n",
    "2. Play the 3rd token (400) face down, your power becomes 500 and score becomes 0.\n",
    "3. Play the 1st token (200) face up, your power becomes 300 and score becomes 1.\n",
    "4. Play the 2nd token (300) face up, your power becomes 0 and score becomes 2.\n",
    " \n",
    "\n",
    "Constraints:\n",
    "\n",
    "0 <= tokens.length <= 1000\n",
    "0 <= tokens[i], P < 104"
   ]
  },
  {
   "cell_type": "code",
   "execution_count": null,
   "metadata": {},
   "outputs": [],
   "source": [
    "class Solution:\n",
    "    def bagOfTokensScore(self, tokens: List[int], p: int) -> int:\n",
    "        tokens.sort()\n",
    "        l=0\n",
    "        r=len(tokens)-1\n",
    "        score=0\n",
    "        \n",
    "        while l<=r:\n",
    "            if p>= tokens[l]:\n",
    "                p-=tokens[l]\n",
    "                score+=1\n",
    "                l+=1\n",
    "                \n",
    "            elif r-l >1 and score>0:\n",
    "                p+=tokens[r]\n",
    "                score-=1\n",
    "                r-=1\n",
    "            else:\n",
    "                return score\n",
    "        return score"
   ]
  },
  {
   "cell_type": "code",
   "execution_count": null,
   "metadata": {},
   "outputs": [],
   "source": []
  }
 ],
 "metadata": {
  "kernelspec": {
   "display_name": "Python 3",
   "language": "python",
   "name": "python3"
  },
  "language_info": {
   "codemirror_mode": {
    "name": "ipython",
    "version": 3
   },
   "file_extension": ".py",
   "mimetype": "text/x-python",
   "name": "python",
   "nbconvert_exporter": "python",
   "pygments_lexer": "ipython3",
   "version": "3.7.6"
  }
 },
 "nbformat": 4,
 "nbformat_minor": 4
}
