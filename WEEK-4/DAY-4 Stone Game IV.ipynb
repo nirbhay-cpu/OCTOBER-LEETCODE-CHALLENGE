{
 "cells": [
  {
   "cell_type": "code",
   "execution_count": null,
   "metadata": {},
   "outputs": [],
   "source": [
    "QUESTION-\n",
    "\n",
    "Alice and Bob take turns playing a game, with Alice starting first.\n",
    "\n",
    "Initially, there are n stones in a pile.  On each player's turn, that player makes a move consisting of removing any non-zero square number of stones in the pile.\n",
    "\n",
    "Also, if a player cannot make a move, he/she loses the game.\n",
    "\n",
    "Given a positive integer n. Return True if and only if Alice wins the game otherwise return False, assuming both players play optimally.\n",
    "\n",
    " \n",
    "\n",
    "Example 1:\n",
    "\n",
    "Input: n = 1\n",
    "Output: true\n",
    "Explanation: Alice can remove 1 stone winning the game because Bob doesn't have any moves.\n",
    "Example 2:\n",
    "\n",
    "Input: n = 2\n",
    "Output: false\n",
    "Explanation: Alice can only remove 1 stone, after that Bob removes the last one winning the game (2 -> 1 -> 0).\n",
    "Example 3:\n",
    "\n",
    "Input: n = 4\n",
    "Output: true\n",
    "Explanation: n is already a perfect square, Alice can win with one move, removing 4 stones (4 -> 0).\n",
    "Example 4:\n",
    "\n",
    "Input: n = 7\n",
    "Output: false\n",
    "Explanation: Alice can't win the game if Bob plays optimally.\n",
    "If Alice starts removing 4 stones, Bob will remove 1 stone then Alice should remove only 1 stone and finally Bob removes the last one (7 -> 3 -> 2 -> 1 -> 0). \n",
    "If Alice starts removing 1 stone, Bob will remove 4 stones then Alice only can remove 1 stone and finally Bob removes the last one (7 -> 6 -> 2 -> 1 -> 0).\n",
    "Example 5:\n",
    "\n",
    "Input: n = 17\n",
    "Output: false\n",
    "Explanation: Alice can't win the game if Bob plays optimally.\n",
    " \n",
    "\n",
    "Constraints:\n",
    "\n",
    "1 <= n <= 10^5"
   ]
  },
  {
   "cell_type": "code",
   "execution_count": null,
   "metadata": {},
   "outputs": [],
   "source": [
    "class Solution:\n",
    "    @lru_cache(None)\n",
    "    def winnerSquareGame(self, n: int) -> bool:\n",
    "        if n==0:\n",
    "            return False\n",
    "        \n",
    "        for x in range(1,math.floor(math.sqrt(n))+1):\n",
    "            if not self.winnerSquareGame(n-(x*x)):\n",
    "                return True\n",
    "        return False"
   ]
  },
  {
   "cell_type": "code",
   "execution_count": null,
   "metadata": {},
   "outputs": [],
   "source": []
  }
 ],
 "metadata": {
  "kernelspec": {
   "display_name": "Python 3",
   "language": "python",
   "name": "python3"
  },
  "language_info": {
   "codemirror_mode": {
    "name": "ipython",
    "version": 3
   },
   "file_extension": ".py",
   "mimetype": "text/x-python",
   "name": "python",
   "nbconvert_exporter": "python",
   "pygments_lexer": "ipython3",
   "version": "3.7.6"
  }
 },
 "nbformat": 4,
 "nbformat_minor": 4
}
