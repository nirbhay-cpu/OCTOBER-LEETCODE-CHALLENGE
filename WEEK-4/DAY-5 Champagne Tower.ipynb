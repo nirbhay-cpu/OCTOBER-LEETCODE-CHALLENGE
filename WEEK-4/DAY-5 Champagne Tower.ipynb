{
 "cells": [
  {
   "cell_type": "code",
   "execution_count": null,
   "metadata": {},
   "outputs": [],
   "source": [
    "QUESTION-\n",
    "\n",
    "We stack glasses in a pyramid, where the first row has 1 glass, the second row has 2 glasses, and so on until the 100th row.  Each glass holds one cup of champagne.\n",
    "\n",
    "Then, some champagne is poured into the first glass at the top.  When the topmost glass is full, any excess liquid poured will fall equally to the glass immediately to the left and right of it.  When those glasses become full, any excess champagne will fall equally to the left and right of those glasses, and so on.  (A glass at the bottom row has its excess champagne fall on the floor.)\n",
    "\n",
    "For example, after one cup of champagne is poured, the top most glass is full.  After two cups of champagne are poured, the two glasses on the second row are half full.  After three cups of champagne are poured, those two cups become full - there are 3 full glasses total now.  After four cups of champagne are poured, the third row has the middle glass half full, and the two outside glasses are a quarter full, as pictured below.\n",
    "\n",
    "\n",
    "\n",
    "Now after pouring some non-negative integer cups of champagne, return how full the jth glass in the ith row is (both i and j are 0-indexed.)\n",
    "\n",
    " \n",
    "\n",
    "Example 1:\n",
    "\n",
    "Input: poured = 1, query_row = 1, query_glass = 1\n",
    "Output: 0.00000\n",
    "Explanation: We poured 1 cup of champange to the top glass of the tower (which is indexed as (0, 0)). There will be no excess liquid so all the glasses under the top glass will remain empty.\n",
    "Example 2:\n",
    "\n",
    "Input: poured = 2, query_row = 1, query_glass = 1\n",
    "Output: 0.50000\n",
    "Explanation: We poured 2 cups of champange to the top glass of the tower (which is indexed as (0, 0)). There is one cup of excess liquid. The glass indexed as (1, 0) and the glass indexed as (1, 1) will share the excess liquid equally, and each will get half cup of champange.\n",
    "Example 3:\n",
    "\n",
    "Input: poured = 100000009, query_row = 33, query_glass = 17\n",
    "Output: 1.00000\n",
    " \n",
    "\n",
    "Constraints:\n",
    "\n",
    "0 <= poured <= 109\n",
    "0 <= query_glass <= query_row < 100"
   ]
  },
  {
   "cell_type": "code",
   "execution_count": null,
   "metadata": {},
   "outputs": [],
   "source": [
    "class Solution:\n",
    "    def champagneTower(self, poured: int, query_row: int, query_glass: int) -> float:\n",
    "        \n",
    "        dp = [ [0 for _ in range(x)] for x in range(1,query_row+2)]\n",
    "        dp[0][0] = poured\n",
    "        \n",
    "        for i in range(query_row):\n",
    "            for j in range(len(dp[i])):\n",
    "                temp = (dp[i][j]-1) / 2.0\n",
    "                if temp>0:\n",
    "                    dp[i+1][j] += temp\n",
    "                    dp[i+1][j+1] += temp\n",
    "        \n",
    "        return dp[query_row][query_glass] if dp[query_row][query_glass]<=1 else 1"
   ]
  },
  {
   "cell_type": "code",
   "execution_count": null,
   "metadata": {},
   "outputs": [],
   "source": []
  }
 ],
 "metadata": {
  "kernelspec": {
   "display_name": "Python 3",
   "language": "python",
   "name": "python3"
  },
  "language_info": {
   "codemirror_mode": {
    "name": "ipython",
    "version": 3
   },
   "file_extension": ".py",
   "mimetype": "text/x-python",
   "name": "python",
   "nbconvert_exporter": "python",
   "pygments_lexer": "ipython3",
   "version": "3.7.6"
  }
 },
 "nbformat": 4,
 "nbformat_minor": 4
}
