{
 "cells": [
  {
   "cell_type": "code",
   "execution_count": null,
   "metadata": {},
   "outputs": [],
   "source": [
    "QUESTION-\n",
    "\n",
    "You are given the root of a binary search tree (BST), where exactly two nodes of the tree were swapped by mistake. Recover the tree without changing its structure.\n",
    "\n",
    "Follow up: A solution using O(n) space is pretty straight forward. Could you devise a constant space solution?\n",
    "\n",
    " \n",
    "\n",
    "Example 1:\n",
    "\n",
    "\n",
    "Input: root = [1,3,null,null,2]\n",
    "Output: [3,1,null,null,2]\n",
    "Explanation: 3 cannot be a left child of 1 because 3 > 1. Swapping 1 and 3 makes the BST valid.\n",
    "Example 2:\n",
    "\n",
    "\n",
    "Input: root = [3,1,4,null,null,2]\n",
    "Output: [2,1,4,null,null,3]\n",
    "Explanation: 2 cannot be in the right subtree of 3 because 2 < 3. Swapping 2 and 3 makes the BST valid.\n",
    " \n",
    "\n",
    "Constraints:\n",
    "\n",
    "The number of nodes in the tree is in the range [2, 1000].\n",
    "-231 <= Node.val <= 231 - 1"
   ]
  },
  {
   "cell_type": "code",
   "execution_count": null,
   "metadata": {},
   "outputs": [],
   "source": [
    "class Solution:\n",
    "    def recoverTree(self, root: TreeNode) -> None:\n",
    "        \"\"\"\n",
    "        Do not return anything, modify root in-place instead.\n",
    "        \"\"\"\n",
    "        curr = root\n",
    "        prev = TreeNode(float('-inf'))\n",
    "        replace = []\n",
    "        stack = []\n",
    "        \n",
    "        while curr or stack:\n",
    "            while curr:\n",
    "                stack.append(curr)\n",
    "                curr = curr.left\n",
    "            \n",
    "            temp = stack.pop()\n",
    "            \n",
    "            if temp.val < prev.val:\n",
    "                replace.append((prev, temp))\n",
    "            \n",
    "            prev = temp\n",
    "            curr = temp.right\n",
    "        \n",
    "        replace[0][0].val, replace[-1][1].val = replace[-1][1].val, replace[0][0].val"
   ]
  },
  {
   "cell_type": "code",
   "execution_count": null,
   "metadata": {},
   "outputs": [],
   "source": []
  }
 ],
 "metadata": {
  "kernelspec": {
   "display_name": "Python 3",
   "language": "python",
   "name": "python3"
  },
  "language_info": {
   "codemirror_mode": {
    "name": "ipython",
    "version": 3
   },
   "file_extension": ".py",
   "mimetype": "text/x-python",
   "name": "python",
   "nbconvert_exporter": "python",
   "pygments_lexer": "ipython3",
   "version": "3.7.6"
  }
 },
 "nbformat": 4,
 "nbformat_minor": 4
}
